{
 "cells": [
  {
   "cell_type": "code",
   "execution_count": 49,
   "id": "af1611c7",
   "metadata": {},
   "outputs": [],
   "source": [
    "class BaseSalary:\n",
    "    def __init__(self, base_salary, bonus_rate=0.1, symbol= \"$\"): #defining method, when we have two underscores it means this is built in method\n",
    "       self.base_salary = base_salary #adding an atribute of base salary to variable base_salary\n",
    "       self.bonus_rate = bonus_rate\n",
    "       self.symbol = symbol\n",
    "       self.total_salary = base_salary * (1 + bonus_rate) #definig tot sal because we use it below\n",
    "       self.bonus = self.total_salary -  self.base_salary\n",
    "\n",
    "    def __repr__(self): #this method returns everything so we need to put self argument \n",
    "        return f'{self.symbol}{self.base_salary:,.0f}'\n",
    "\n",
    "    def calculate_salary(self):\n",
    "        return f'{self.symbol}{self.total_salary:,.0f}'\n",
    "    \n",
    "    def calculate_bonus(self):\n",
    "        return f'{self.symbol}{self.bonus:,.0f}'\n",
    "\n"
   ]
  },
  {
   "cell_type": "code",
   "execution_count": 50,
   "id": "5a013511",
   "metadata": {},
   "outputs": [],
   "source": [
    "salary = BaseSalary(10000)"
   ]
  },
  {
   "cell_type": "code",
   "execution_count": 51,
   "id": "b3523807",
   "metadata": {},
   "outputs": [
    {
     "data": {
      "text/plain": [
       "'$11,000'"
      ]
     },
     "execution_count": 51,
     "metadata": {},
     "output_type": "execute_result"
    }
   ],
   "source": [
    "salary.calculate_salary()"
   ]
  },
  {
   "cell_type": "code",
   "execution_count": 52,
   "id": "520a4bd3",
   "metadata": {},
   "outputs": [
    {
     "data": {
      "text/plain": [
       "'$1,000'"
      ]
     },
     "execution_count": 52,
     "metadata": {},
     "output_type": "execute_result"
    }
   ],
   "source": [
    "salary.calculate_bonus()"
   ]
  },
  {
   "cell_type": "code",
   "execution_count": null,
   "id": "dfde8bdb",
   "metadata": {},
   "outputs": [],
   "source": []
  }
 ],
 "metadata": {
  "kernelspec": {
   "display_name": "py312",
   "language": "python",
   "name": "python3"
  },
  "language_info": {
   "codemirror_mode": {
    "name": "ipython",
    "version": 3
   },
   "file_extension": ".py",
   "mimetype": "text/x-python",
   "name": "python",
   "nbconvert_exporter": "python",
   "pygments_lexer": "ipython3",
   "version": "3.12.7"
  }
 },
 "nbformat": 4,
 "nbformat_minor": 5
}
