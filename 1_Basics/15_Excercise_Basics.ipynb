{
 "cells": [
  {
   "cell_type": "code",
   "execution_count": 30,
   "id": "a10699d8",
   "metadata": {},
   "outputs": [],
   "source": [
    "my_skills = ['Python', 'SQL', 'Excel']"
   ]
  },
  {
   "cell_type": "code",
   "execution_count": 31,
   "id": "fbef66f0",
   "metadata": {},
   "outputs": [],
   "source": [
    "job_roles = [\n",
    "    {'role': 'Data Analyst', 'skills': ['Python', 'SQL', 'Excel']},\n",
    "    {'role': 'Data Scientist', 'skills': ['Python', 'R', 'Machine Learning', 'Deep Learning']},\n",
    "    {'role': 'Machine Learning Engineer', 'skills': ['Python', 'TensorFlow', 'PyTorch', 'Scikit-Learn']},\n",
    "    {'role': 'Data Engineer', 'skills': ['Python', 'Apache Spark', 'Hadoop', 'SQL']},\n",
    "    {'role': 'Business Intelligence Analyst', 'skills': ['Python', 'SQL', 'Tableau', 'Power BI', 'Excel']},\n",
    "    {'role': 'Quantitative Analyst', 'skills': ['R', 'Python', 'MATLAB', 'Statistics']},\n",
    "    {'role': 'Operations Analyst', 'skills': ['Python', 'SQL', 'Data Visualization', 'Process Improvement']},\n",
    "    {'role': 'Database Administrator', 'skills': ['SQL', 'Oracle', 'MySQL', 'Database Management']},\n",
    "    {'role': 'AI Engineer', 'skills': ['Python', 'TensorFlow', 'PyTorch', 'Computer Vision']},\n",
    "    {'role': 'Statistician', 'skills': ['R', 'SAS', 'Python', 'Statistical Modeling']}\n",
    "]\n",
    " "
   ]
  },
  {
   "cell_type": "code",
   "execution_count": 20,
   "id": "dc7c6e09",
   "metadata": {},
   "outputs": [
    {
     "data": {
      "text/html": [
       "<div>\n",
       "<style scoped>\n",
       "    .dataframe tbody tr th:only-of-type {\n",
       "        vertical-align: middle;\n",
       "    }\n",
       "\n",
       "    .dataframe tbody tr th {\n",
       "        vertical-align: top;\n",
       "    }\n",
       "\n",
       "    .dataframe thead th {\n",
       "        text-align: right;\n",
       "    }\n",
       "</style>\n",
       "<table border=\"1\" class=\"dataframe\">\n",
       "  <thead>\n",
       "    <tr style=\"text-align: right;\">\n",
       "      <th></th>\n",
       "      <th>role</th>\n",
       "      <th>skills</th>\n",
       "    </tr>\n",
       "  </thead>\n",
       "  <tbody>\n",
       "    <tr>\n",
       "      <th>0</th>\n",
       "      <td>Data Analyst</td>\n",
       "      <td>[Python, SQL, Excel]</td>\n",
       "    </tr>\n",
       "    <tr>\n",
       "      <th>1</th>\n",
       "      <td>Data Scientist</td>\n",
       "      <td>[Python, R, Machine Learning, Deep Learning]</td>\n",
       "    </tr>\n",
       "    <tr>\n",
       "      <th>2</th>\n",
       "      <td>Machine Learning Engineer</td>\n",
       "      <td>[Python, TensorFlow, PyTorch, Scikit-Learn]</td>\n",
       "    </tr>\n",
       "    <tr>\n",
       "      <th>3</th>\n",
       "      <td>Data Engineer</td>\n",
       "      <td>[Python, Apache Spark, Hadoop, SQL]</td>\n",
       "    </tr>\n",
       "    <tr>\n",
       "      <th>4</th>\n",
       "      <td>Business Intelligence Analyst</td>\n",
       "      <td>[Python, SQL, Tableau, Power BI, Excel]</td>\n",
       "    </tr>\n",
       "    <tr>\n",
       "      <th>5</th>\n",
       "      <td>Quantitative Analyst</td>\n",
       "      <td>[R, Python, MATLAB, Statistics]</td>\n",
       "    </tr>\n",
       "    <tr>\n",
       "      <th>6</th>\n",
       "      <td>Operations Analyst</td>\n",
       "      <td>[Python, SQL, Data Visualization, Process Impr...</td>\n",
       "    </tr>\n",
       "    <tr>\n",
       "      <th>7</th>\n",
       "      <td>Database Administrator</td>\n",
       "      <td>[SQL, Oracle, MySQL, Database Management]</td>\n",
       "    </tr>\n",
       "    <tr>\n",
       "      <th>8</th>\n",
       "      <td>AI Engineer</td>\n",
       "      <td>[Python, TensorFlow, PyTorch, Computer Vision]</td>\n",
       "    </tr>\n",
       "    <tr>\n",
       "      <th>9</th>\n",
       "      <td>Statistician</td>\n",
       "      <td>[R, SAS, Python, Statistical Modeling]</td>\n",
       "    </tr>\n",
       "  </tbody>\n",
       "</table>\n",
       "</div>"
      ],
      "text/plain": [
       "                            role  \\\n",
       "0                   Data Analyst   \n",
       "1                 Data Scientist   \n",
       "2      Machine Learning Engineer   \n",
       "3                  Data Engineer   \n",
       "4  Business Intelligence Analyst   \n",
       "5           Quantitative Analyst   \n",
       "6             Operations Analyst   \n",
       "7         Database Administrator   \n",
       "8                    AI Engineer   \n",
       "9                   Statistician   \n",
       "\n",
       "                                              skills  \n",
       "0                               [Python, SQL, Excel]  \n",
       "1       [Python, R, Machine Learning, Deep Learning]  \n",
       "2        [Python, TensorFlow, PyTorch, Scikit-Learn]  \n",
       "3                [Python, Apache Spark, Hadoop, SQL]  \n",
       "4            [Python, SQL, Tableau, Power BI, Excel]  \n",
       "5                    [R, Python, MATLAB, Statistics]  \n",
       "6  [Python, SQL, Data Visualization, Process Impr...  \n",
       "7          [SQL, Oracle, MySQL, Database Management]  \n",
       "8     [Python, TensorFlow, PyTorch, Computer Vision]  \n",
       "9             [R, SAS, Python, Statistical Modeling]  "
      ]
     },
     "execution_count": 20,
     "metadata": {},
     "output_type": "execute_result"
    }
   ],
   "source": [
    "import pandas as pd\n",
    "\n",
    "x = pd.DataFrame(job_roles)\n",
    "x"
   ]
  },
  {
   "cell_type": "markdown",
   "id": "a8851a62",
   "metadata": {},
   "source": [
    "Code\n",
    "\n",
    "1. Loop through the job_roles\n",
    "2. Verify if all my skills are inside each job_roles[skills]\n",
    "3. if True (or qualified), add to qualified list of jobs"
   ]
  },
  {
   "cell_type": "code",
   "execution_count": 37,
   "id": "77023d83",
   "metadata": {},
   "outputs": [
    {
     "data": {
      "text/plain": [
       "['Data Analyst',\n",
       " 'Data Analyst',\n",
       " 'Data Analyst',\n",
       " 'Data Scientist',\n",
       " 'Machine Learning Engineer',\n",
       " 'Data Engineer',\n",
       " 'Data Engineer',\n",
       " 'Business Intelligence Analyst',\n",
       " 'Business Intelligence Analyst',\n",
       " 'Business Intelligence Analyst',\n",
       " 'Quantitative Analyst',\n",
       " 'Operations Analyst',\n",
       " 'Operations Analyst',\n",
       " 'AI Engineer',\n",
       " 'Statistician']"
      ]
     },
     "execution_count": 37,
     "metadata": {},
     "output_type": "execute_result"
    }
   ],
   "source": [
    "qualified_roles = []\n",
    "\n",
    "for job in job_roles:\n",
    "    qualified = True #checking if the job is qualified or not\n",
    "\n",
    "\n",
    "    for skill in my_skills:\n",
    "     if skill not in job['skills']:\n",
    "            qualified = False\n",
    "     if qualified:\n",
    "        qualified_roles.append(job['role'])\n",
    "\n",
    "\n",
    "qualified_roles"
   ]
  },
  {
   "cell_type": "code",
   "execution_count": 22,
   "id": "ab59123c",
   "metadata": {},
   "outputs": [
    {
     "name": "stdout",
     "output_type": "stream",
     "text": [
      "['Data Analyst']\n"
     ]
    }
   ],
   "source": [
    "#determine which jobs you are qualified for\n",
    "qualified_roles = []\n",
    "for job in job_roles:\n",
    "    if all(skill in my_skills for skill in job['skills']): #all() function checks if all skills are in my_skills\n",
    "        qualified_roles.append(job['role'])\n",
    "        print(qualified_roles) #print qualified roles"
   ]
  }
 ],
 "metadata": {
  "kernelspec": {
   "display_name": "py312",
   "language": "python",
   "name": "python3"
  },
  "language_info": {
   "codemirror_mode": {
    "name": "ipython",
    "version": 3
   },
   "file_extension": ".py",
   "mimetype": "text/x-python",
   "name": "python",
   "nbconvert_exporter": "python",
   "pygments_lexer": "ipython3",
   "version": "3.12.7"
  }
 },
 "nbformat": 4,
 "nbformat_minor": 5
}
