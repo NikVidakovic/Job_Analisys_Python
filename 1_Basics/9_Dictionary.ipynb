{
 "cells": [
  {
   "cell_type": "code",
   "execution_count": 3,
   "id": "4538831e",
   "metadata": {},
   "outputs": [],
   "source": [
    "job_type_skills = {\n",
    "    'database': 'postgres', \n",
    "    'language' : 'python', \n",
    "    'library': 'pandas' }"
   ]
  },
  {
   "cell_type": "code",
   "execution_count": 6,
   "id": "e7e1db17",
   "metadata": {},
   "outputs": [
    {
     "data": {
      "text/plain": [
       "'postgres'"
      ]
     },
     "execution_count": 6,
     "metadata": {},
     "output_type": "execute_result"
    }
   ],
   "source": [
    "job_type_skills ['database']"
   ]
  },
  {
   "cell_type": "code",
   "execution_count": 7,
   "id": "1324d71c",
   "metadata": {},
   "outputs": [
    {
     "data": {
      "text/plain": [
       "dict_keys(['database', 'language', 'library'])"
      ]
     },
     "execution_count": 7,
     "metadata": {},
     "output_type": "execute_result"
    }
   ],
   "source": [
    "job_type_skills.keys()"
   ]
  },
  {
   "cell_type": "code",
   "execution_count": 8,
   "id": "6161e8b4",
   "metadata": {},
   "outputs": [
    {
     "data": {
      "text/plain": [
       "dict_values(['postgres', 'python', 'pandas'])"
      ]
     },
     "execution_count": 8,
     "metadata": {},
     "output_type": "execute_result"
    }
   ],
   "source": [
    "job_type_skills.values()"
   ]
  },
  {
   "cell_type": "code",
   "execution_count": 9,
   "id": "05055db0",
   "metadata": {},
   "outputs": [
    {
     "data": {
      "text/plain": [
       "'pandas'"
      ]
     },
     "execution_count": 9,
     "metadata": {},
     "output_type": "execute_result"
    }
   ],
   "source": [
    "job_type_skills.pop('library')"
   ]
  },
  {
   "cell_type": "code",
   "execution_count": 10,
   "id": "c13eaaa2",
   "metadata": {},
   "outputs": [],
   "source": [
    "job_type_skills.update({'cloud' : 'google cloud'})"
   ]
  },
  {
   "cell_type": "code",
   "execution_count": 11,
   "id": "f3c9409f",
   "metadata": {},
   "outputs": [
    {
     "data": {
      "text/plain": [
       "{'database': 'postgres', 'language': 'python', 'cloud': 'google cloud'}"
      ]
     },
     "execution_count": 11,
     "metadata": {},
     "output_type": "execute_result"
    }
   ],
   "source": [
    "job_type_skills"
   ]
  },
  {
   "cell_type": "code",
   "execution_count": 12,
   "id": "a2b7ff9c",
   "metadata": {},
   "outputs": [
    {
     "data": {
      "text/plain": [
       "'google cloud'"
      ]
     },
     "execution_count": 12,
     "metadata": {},
     "output_type": "execute_result"
    }
   ],
   "source": [
    "job_type_skills['cloud']"
   ]
  },
  {
   "cell_type": "code",
   "execution_count": 13,
   "id": "e3546aab",
   "metadata": {},
   "outputs": [],
   "source": [
    "#creating another dictionary\n",
    "job_type_skills['version_control'] = 'git'"
   ]
  },
  {
   "cell_type": "code",
   "execution_count": 14,
   "id": "e19a1ad4",
   "metadata": {},
   "outputs": [
    {
     "data": {
      "text/plain": [
       "{'database': 'postgres',\n",
       " 'language': 'python',\n",
       " 'cloud': 'google cloud',\n",
       " 'version_control': 'git'}"
      ]
     },
     "execution_count": 14,
     "metadata": {},
     "output_type": "execute_result"
    }
   ],
   "source": [
    "job_type_skills"
   ]
  }
 ],
 "metadata": {
  "kernelspec": {
   "display_name": "py312",
   "language": "python",
   "name": "python3"
  },
  "language_info": {
   "codemirror_mode": {
    "name": "ipython",
    "version": 3
   },
   "file_extension": ".py",
   "mimetype": "text/x-python",
   "name": "python",
   "nbconvert_exporter": "python",
   "pygments_lexer": "ipython3",
   "version": "3.12.7"
  }
 },
 "nbformat": 4,
 "nbformat_minor": 5
}
