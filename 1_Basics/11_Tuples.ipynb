{
 "cells": [
  {
   "cell_type": "code",
   "execution_count": 1,
   "id": "068a35e5",
   "metadata": {},
   "outputs": [],
   "source": [
    "#tuples are immutable and for fixed data\n",
    "#if we have a unique set of items we will use a tuple\n",
    "lukes_skills = ('python', 'java', 'c++', 'html', 'css')"
   ]
  },
  {
   "cell_type": "code",
   "execution_count": null,
   "id": "9345cb42",
   "metadata": {},
   "outputs": [
    {
     "data": {
      "text/plain": [
       "('python', 'java')"
      ]
     },
     "execution_count": 3,
     "metadata": {},
     "output_type": "execute_result"
    }
   ],
   "source": [
    "lukes_skills[0:2] #slicing a tuple"
   ]
  },
  {
   "cell_type": "code",
   "execution_count": 4,
   "id": "39b9a804",
   "metadata": {},
   "outputs": [
    {
     "ename": "AttributeError",
     "evalue": "'tuple' object has no attribute 'append'",
     "output_type": "error",
     "traceback": [
      "\u001b[1;31m---------------------------------------------------------------------------\u001b[0m",
      "\u001b[1;31mAttributeError\u001b[0m                            Traceback (most recent call last)",
      "Cell \u001b[1;32mIn[4], line 1\u001b[0m\n\u001b[1;32m----> 1\u001b[0m \u001b[43mlukes_skills\u001b[49m\u001b[38;5;241;43m.\u001b[39;49m\u001b[43mappend\u001b[49m(\u001b[38;5;124m'\u001b[39m\u001b[38;5;124mjavascript\u001b[39m\u001b[38;5;124m'\u001b[39m) \u001b[38;5;66;03m#will throw an error because tuples are immutable\u001b[39;00m\n",
      "\u001b[1;31mAttributeError\u001b[0m: 'tuple' object has no attribute 'append'"
     ]
    }
   ],
   "source": [
    "lukes_skills.append('javascript') #will throw an error because tuples are immutable"
   ]
  },
  {
   "cell_type": "code",
   "execution_count": 12,
   "id": "ea0687ae",
   "metadata": {},
   "outputs": [
    {
     "name": "stdout",
     "output_type": "stream",
     "text": [
      "2260916354016\n"
     ]
    }
   ],
   "source": [
    "lukes_skills = ('python', 'java', 'c++', 'html', 'css', 'javascript')\n",
    "\n",
    "print(id(lukes_skills)) #will print the memory address of the tuple\n",
    "new_skills = ('excel', 'power bi', 'sql')\n",
    "\n",
    "lukes_skills += new_skills #concatenating tuples"
   ]
  },
  {
   "cell_type": "code",
   "execution_count": 10,
   "id": "939e0e39",
   "metadata": {},
   "outputs": [
    {
     "data": {
      "text/plain": [
       "('python',\n",
       " 'java',\n",
       " 'c++',\n",
       " 'html',\n",
       " 'css',\n",
       " 'javascript',\n",
       " 'excel',\n",
       " 'power bi',\n",
       " 'sql')"
      ]
     },
     "execution_count": 10,
     "metadata": {},
     "output_type": "execute_result"
    }
   ],
   "source": [
    "#tuples have add method but by using add method we are creating a new object\n",
    "\n",
    "lukes_skills"
   ]
  },
  {
   "cell_type": "code",
   "execution_count": 11,
   "id": "52e50902",
   "metadata": {},
   "outputs": [
    {
     "data": {
      "text/plain": [
       "2260918111680"
      ]
     },
     "execution_count": 11,
     "metadata": {},
     "output_type": "execute_result"
    }
   ],
   "source": [
    "id(lukes_skills) #id of the tuple will change after concatenation"
   ]
  },
  {
   "cell_type": "code",
   "execution_count": 14,
   "id": "962a6cd5",
   "metadata": {},
   "outputs": [
    {
     "name": "stdout",
     "output_type": "stream",
     "text": [
      "2260920852544\n"
     ]
    },
    {
     "data": {
      "text/plain": [
       "2260920852544"
      ]
     },
     "execution_count": 14,
     "metadata": {},
     "output_type": "execute_result"
    }
   ],
   "source": [
    "#doing the same with list\n",
    "\n",
    "lukes_skills = ['python', 'java', 'c++', 'html', 'css', 'javascript']\n",
    "\n",
    "print(id(lukes_skills)) #will print the memory address of the tuple\n",
    "new_skills = ['excel', 'power bi', 'sql']\n",
    "\n",
    "lukes_skills += new_skills #concatenating tuples\n",
    "\n",
    "id(lukes_skills)"
   ]
  },
  {
   "cell_type": "code",
   "execution_count": 15,
   "id": "c87fb908",
   "metadata": {},
   "outputs": [
    {
     "data": {
      "text/plain": [
       "range(0, 10)"
      ]
     },
     "execution_count": 15,
     "metadata": {},
     "output_type": "execute_result"
    }
   ],
   "source": [
    "range(0, 10) #will create a range object from 0 to 10"
   ]
  },
  {
   "cell_type": "code",
   "execution_count": 17,
   "id": "0b04d750",
   "metadata": {},
   "outputs": [
    {
     "data": {
      "text/plain": [
       "(0, 1, 2, 3, 4, 5, 6, 7, 8, 9)"
      ]
     },
     "execution_count": 17,
     "metadata": {},
     "output_type": "execute_result"
    }
   ],
   "source": [
    "tuple(range(0, 10)) #will create a tuple from the range object with unique values"
   ]
  },
  {
   "cell_type": "code",
   "execution_count": 18,
   "id": "54b43956",
   "metadata": {},
   "outputs": [
    {
     "data": {
      "text/plain": [
       "(3, 4, 5, 6, 7, 8, 9)"
      ]
     },
     "execution_count": 18,
     "metadata": {},
     "output_type": "execute_result"
    }
   ],
   "source": [
    "tuple(range(3, 10)) "
   ]
  },
  {
   "cell_type": "code",
   "execution_count": 20,
   "id": "25960119",
   "metadata": {},
   "outputs": [
    {
     "data": {
      "text/plain": [
       "(3, 5, 7, 9)"
      ]
     },
     "execution_count": 20,
     "metadata": {},
     "output_type": "execute_result"
    }
   ],
   "source": [
    "tuple(range(3, 10, 2)) #will create a tuple from the range object with unique values and step of 2"
   ]
  }
 ],
 "metadata": {
  "kernelspec": {
   "display_name": "py312",
   "language": "python",
   "name": "python3"
  },
  "language_info": {
   "codemirror_mode": {
    "name": "ipython",
    "version": 3
   },
   "file_extension": ".py",
   "mimetype": "text/x-python",
   "name": "python",
   "nbconvert_exporter": "python",
   "pygments_lexer": "ipython3",
   "version": "3.12.7"
  }
 },
 "nbformat": 4,
 "nbformat_minor": 5
}
