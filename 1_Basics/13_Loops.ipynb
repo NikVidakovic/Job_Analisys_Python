{
 "cells": [
  {
   "cell_type": "code",
   "execution_count": 3,
   "id": "7abdd688",
   "metadata": {},
   "outputs": [
    {
     "data": {
      "text/plain": [
       "8"
      ]
     },
     "execution_count": 3,
     "metadata": {},
     "output_type": "execute_result"
    }
   ],
   "source": [
    "#for loops and while loops\n",
    "#for loops are used to iterate over a sequence (like a list, tuple, dictionary, set, or string)\n",
    "#while loops are used to execute a block of code as long as a condition is true\n",
    "\n",
    "len('job_list')"
   ]
  },
  {
   "cell_type": "code",
   "execution_count": 6,
   "id": "3b3ee747",
   "metadata": {},
   "outputs": [
    {
     "name": "stdout",
     "output_type": "stream",
     "text": [
      "1\n",
      "2\n",
      "3\n",
      "4\n",
      "5\n"
     ]
    }
   ],
   "source": [
    "numbers = [1, 2, 3, 4, 5]\n",
    "\n",
    "for number in numbers:\n",
    "    print(number)"
   ]
  },
  {
   "cell_type": "code",
   "execution_count": 9,
   "id": "214707f8",
   "metadata": {},
   "outputs": [
    {
     "name": "stdout",
     "output_type": "stream",
     "text": [
      "Python\n"
     ]
    }
   ],
   "source": [
    "characters = ['Python']\n",
    "\n",
    "for _ in characters:\n",
    "    print(_)"
   ]
  },
  {
   "cell_type": "code",
   "execution_count": 18,
   "id": "f77f9cee",
   "metadata": {},
   "outputs": [],
   "source": [
    "years_experiences ={\n",
    "    'Luke' : 3,\n",
    "    'Kelly' : 5,\n",
    "    'John' : 2,\n",
    "    'Sarah' : 4\n",
    "}"
   ]
  },
  {
   "cell_type": "code",
   "execution_count": 13,
   "id": "ee6dd0d8",
   "metadata": {},
   "outputs": [
    {
     "name": "stdout",
     "output_type": "stream",
     "text": [
      "{'Luke': 7, 'Kelly': 2, 'John': 3, 'Sarah': 3, 'Mike': 7, 'Anna': 3, 'Tom': 4, 'Emma': 8, 'Chris': 1, 'Kate': 6, 'David': 6, 'Sophia': 10, 'James': 1, 'Olivia': 1, 'Liam': 10, 'Ava': 6, 'Noah': 1, 'Mia': 8, 'Ethan': 4, 'Isabella': 4}\n"
     ]
    }
   ],
   "source": [
    "import random\n",
    "\n",
    "#generate random years for each employee\n",
    "names = [ 'Luke', 'Kelly', 'John', 'Sarah', 'Mike', 'Anna', 'Tom', 'Emma', \n",
    "          'Chris', 'Kate', 'David', 'Sophia', 'James', 'Olivia', 'Liam', 'Ava', \n",
    "          'Noah', 'Mia', 'Ethan', 'Isabella']\n",
    "\n",
    "years_experience = {name: random.randint(1, 10) for name in names}\n",
    "\n",
    "print(years_experience)"
   ]
  },
  {
   "cell_type": "code",
   "execution_count": 19,
   "id": "e7647121",
   "metadata": {},
   "outputs": [
    {
     "name": "stdout",
     "output_type": "stream",
     "text": [
      "3\n",
      "5\n",
      "2\n",
      "4\n"
     ]
    }
   ],
   "source": [
    "#getting the values of the dictionary\n",
    "for person in years_experiences.values():\n",
    "    print(person)"
   ]
  },
  {
   "cell_type": "code",
   "execution_count": 22,
   "id": "82a08549",
   "metadata": {},
   "outputs": [
    {
     "name": "stdout",
     "output_type": "stream",
     "text": [
      "Luke 3\n",
      "Kelly 5\n",
      "John 2\n",
      "Sarah 4\n"
     ]
    }
   ],
   "source": [
    "#getting thekey and values of the dictionary\n",
    "for key, value in years_experiences.items():\n",
    "    print(key, value)"
   ]
  },
  {
   "cell_type": "code",
   "execution_count": 26,
   "id": "b1e19f60",
   "metadata": {},
   "outputs": [
    {
     "name": "stdout",
     "output_type": "stream",
     "text": [
      "Kelly has 5 years of experience\n"
     ]
    }
   ],
   "source": [
    "#getting the person with the most years of experience\n",
    "for key, value in years_experiences.items():\n",
    "    if value > 4:\n",
    "        print(key, 'has', value, 'years of experience') "
   ]
  },
  {
   "cell_type": "code",
   "execution_count": 28,
   "id": "3a8a5835",
   "metadata": {},
   "outputs": [
    {
     "name": "stdout",
     "output_type": "stream",
     "text": [
      "Count is: 1\n",
      "Count is: 2\n",
      "Count is: 3\n",
      "Count is: 4\n",
      "Count is: 5\n"
     ]
    }
   ],
   "source": [
    "count= 1\n",
    "\n",
    "while count <= 5:\n",
    "    print('Count is:', count)\n",
    "    count += 1"
   ]
  },
  {
   "cell_type": "code",
   "execution_count": 29,
   "id": "6a4a326e",
   "metadata": {},
   "outputs": [],
   "source": [
    "years_experiences ={\n",
    "    'Luke' : 3,\n",
    "    'Kelly' : 5,\n",
    "    'John' : 2,\n",
    "    'Sarah' : 4,\n",
    "    'Mary' : 7\n",
    "}"
   ]
  },
  {
   "cell_type": "code",
   "execution_count": 40,
   "id": "0db58f61",
   "metadata": {},
   "outputs": [
    {
     "name": "stdout",
     "output_type": "stream",
     "text": [
      "Kelly has 5 years of experience\n"
     ]
    }
   ],
   "source": [
    "#defining the initial value of 0 and we will use while loop to iterate through the dictionary and used to compare the values\n",
    "#we need to put items() method to get the key and value pairs because without it we will get only the keys\n",
    "years = 0\n",
    "index = 0\n",
    "\n",
    "#convert the dictionary to a list of tuples\n",
    "years_list = list(years_experiences.items())\n",
    "while years < 5:\n",
    "   key, years = years_list[index]\n",
    "   if years >= 5:\n",
    "     print (key, 'has', years, 'years of experience')\n",
    "   index += 1"
   ]
  },
  {
   "cell_type": "code",
   "execution_count": null,
   "id": "a0cd17ff",
   "metadata": {
    "vscode": {
     "languageId": "markdown"
    }
   },
   "outputs": [],
   "source": []
  }
 ],
 "metadata": {
  "kernelspec": {
   "display_name": "py312",
   "language": "python",
   "name": "python3"
  },
  "language_info": {
   "codemirror_mode": {
    "name": "ipython",
    "version": 3
   },
   "file_extension": ".py",
   "mimetype": "text/x-python",
   "name": "python",
   "nbconvert_exporter": "python",
   "pygments_lexer": "ipython3",
   "version": "3.12.7"
  }
 },
 "nbformat": 4,
 "nbformat_minor": 5
}
