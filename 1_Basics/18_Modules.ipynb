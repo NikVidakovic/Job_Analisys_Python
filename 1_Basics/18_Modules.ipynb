{
 "cells": [
  {
   "cell_type": "code",
   "execution_count": 47,
   "id": "19bd7265",
   "metadata": {},
   "outputs": [
    {
     "name": "stdout",
     "output_type": "stream",
     "text": [
      "['Python', 'SQL', 'Excel']\n"
     ]
    }
   ],
   "source": [
    "from my_module import skill_list\n",
    "\n",
    "print(skill_list)"
   ]
  },
  {
   "cell_type": "code",
   "execution_count": 54,
   "id": "a0cd48d4",
   "metadata": {},
   "outputs": [],
   "source": [
    "from job_analyzer import calculate_salary\n"
   ]
  },
  {
   "cell_type": "code",
   "execution_count": 49,
   "id": "5b51386b",
   "metadata": {},
   "outputs": [
    {
     "data": {
      "text/plain": [
       "1101.1000000000001"
      ]
     },
     "execution_count": 49,
     "metadata": {},
     "output_type": "execute_result"
    }
   ],
   "source": [
    "job_analyzer.calculate_salary(1001)"
   ]
  },
  {
   "cell_type": "code",
   "execution_count": 63,
   "id": "0bd38851",
   "metadata": {},
   "outputs": [],
   "source": [
    "from job_analyzer import *"
   ]
  },
  {
   "cell_type": "code",
   "execution_count": 65,
   "id": "7ae92756",
   "metadata": {},
   "outputs": [
    {
     "data": {
      "text/plain": [
       "<module 'job_analyzer' from 'c:\\\\Users\\\\User\\\\OneDrive\\\\Desktop\\\\Job_Analisys_Python\\\\1_Basics\\\\job_analyzer.py'>"
      ]
     },
     "execution_count": 65,
     "metadata": {},
     "output_type": "execute_result"
    }
   ],
   "source": [
    "import importlib\n",
    "import job_analyzer\n",
    "importlib.reload(job_analyzer)\n"
   ]
  },
  {
   "cell_type": "code",
   "execution_count": 67,
   "id": "0a605068",
   "metadata": {},
   "outputs": [
    {
     "data": {
      "text/plain": [
       "49.0"
      ]
     },
     "execution_count": 67,
     "metadata": {},
     "output_type": "execute_result"
    }
   ],
   "source": [
    "job_analyzer.calculate_bonus(1000, 20)"
   ]
  },
  {
   "cell_type": "code",
   "execution_count": 68,
   "id": "26f30c5f",
   "metadata": {},
   "outputs": [
    {
     "name": "stdout",
     "output_type": "stream",
     "text": [
      "Help on function calculate_salary in module job_analyzer:\n",
      "\n",
      "calculate_salary(base_salary, bonus_rate=0.1)\n",
      "\n"
     ]
    }
   ],
   "source": [
    "help(calculate_salary)"
   ]
  },
  {
   "cell_type": "markdown",
   "id": "6f2f2458",
   "metadata": {},
   "source": [
    "Statistics Module"
   ]
  },
  {
   "cell_type": "code",
   "execution_count": 69,
   "id": "f00db53e",
   "metadata": {},
   "outputs": [],
   "source": [
    "salary_list = [98000, 6200, 30000, 69550]"
   ]
  },
  {
   "cell_type": "code",
   "execution_count": 80,
   "id": "25d8e531",
   "metadata": {},
   "outputs": [
    {
     "name": "stdout",
     "output_type": "stream",
     "text": [
      "50937.5 is mean, 98000 is mode, 49775.0 is median\n"
     ]
    }
   ],
   "source": [
    "from statistics import mean, mode, median\n",
    "\n",
    "x = mean(salary_list)\n",
    "y = mode(salary_list)\n",
    "z = median(salary_list)\n",
    "\n",
    "print (f'{x} is mean, {y} is mode, {z} is median')\n"
   ]
  },
  {
   "cell_type": "code",
   "execution_count": null,
   "id": "5894ac5a",
   "metadata": {},
   "outputs": [],
   "source": []
  }
 ],
 "metadata": {
  "kernelspec": {
   "display_name": "py312",
   "language": "python",
   "name": "python3"
  },
  "language_info": {
   "codemirror_mode": {
    "name": "ipython",
    "version": 3
   },
   "file_extension": ".py",
   "mimetype": "text/x-python",
   "name": "python",
   "nbconvert_exporter": "python",
   "pygments_lexer": "ipython3",
   "version": "3.12.7"
  }
 },
 "nbformat": 4,
 "nbformat_minor": 5
}
