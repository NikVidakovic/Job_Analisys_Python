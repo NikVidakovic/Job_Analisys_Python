{
 "cells": [
  {
   "cell_type": "code",
   "execution_count": 3,
   "id": "a2530c21",
   "metadata": {},
   "outputs": [],
   "source": [
    "import random\n",
    "\n",
    "salary_list = [random.randint(50000, 100000) for _ in range(1000000)]"
   ]
  },
  {
   "cell_type": "code",
   "execution_count": 7,
   "id": "85f2758b",
   "metadata": {},
   "outputs": [],
   "source": [
    "import statistics as st"
   ]
  },
  {
   "cell_type": "code",
   "execution_count": 8,
   "id": "a408ea2b",
   "metadata": {},
   "outputs": [
    {
     "name": "stdout",
     "output_type": "stream",
     "text": [
      "269 ms ± 3.38 ms per loop (mean ± std. dev. of 7 runs, 1 loop each)\n"
     ]
    }
   ],
   "source": [
    "%%timeit \n",
    "st.mean(salary_list)"
   ]
  },
  {
   "cell_type": "code",
   "execution_count": 9,
   "id": "b8a9ce98",
   "metadata": {},
   "outputs": [],
   "source": [
    "import numpy as np"
   ]
  },
  {
   "cell_type": "code",
   "execution_count": 10,
   "id": "f08802ce",
   "metadata": {},
   "outputs": [
    {
     "name": "stdout",
     "output_type": "stream",
     "text": [
      "50.8 ms ± 615 μs per loop (mean ± std. dev. of 7 runs, 10 loops each)\n"
     ]
    }
   ],
   "source": [
    "%%timeit \n",
    "np.mean(salary_list)"
   ]
  },
  {
   "cell_type": "code",
   "execution_count": 13,
   "id": "3fbbf471",
   "metadata": {},
   "outputs": [],
   "source": [
    "my_array = np.array([1,2,3,4,5])"
   ]
  },
  {
   "cell_type": "code",
   "execution_count": 14,
   "id": "aeeba1d5",
   "metadata": {},
   "outputs": [
    {
     "data": {
      "text/plain": [
       "3.0"
      ]
     },
     "execution_count": 14,
     "metadata": {},
     "output_type": "execute_result"
    }
   ],
   "source": [
    "my_array.mean()"
   ]
  },
  {
   "cell_type": "code",
   "execution_count": 22,
   "id": "01a9f8d2",
   "metadata": {},
   "outputs": [],
   "source": [
    "import numpy as np\n",
    "\n",
    "# Job titles\n",
    "job_titles = np.array(['Data Analyst', 'Data Scientist', 'Data Engineer', 'Machine Learning Engineer', 'AI Engineer'])\n",
    "\n",
    "# Base salaries\n",
    "base_salaries = np.array([60000, 80000, 75000, 90000, np.nan])\n",
    "\n",
    "# Bonus rates\n",
    "bonus_rates = np.array([.05, .1, .08, .12, np.nan])\n"
   ]
  },
  {
   "cell_type": "code",
   "execution_count": 23,
   "id": "f7fa349b",
   "metadata": {},
   "outputs": [
    {
     "data": {
      "text/plain": [
       "array([ 63000.,  88000.,  81000., 100800.,     nan])"
      ]
     },
     "execution_count": 23,
     "metadata": {},
     "output_type": "execute_result"
    }
   ],
   "source": [
    "total_salaries = base_salaries * (1 + bonus_rates)\n",
    "\n",
    "total_salaries"
   ]
  },
  {
   "cell_type": "code",
   "execution_count": 25,
   "id": "4d8ac917",
   "metadata": {},
   "outputs": [
    {
     "data": {
      "text/plain": [
       "83200.0"
      ]
     },
     "execution_count": 25,
     "metadata": {},
     "output_type": "execute_result"
    }
   ],
   "source": [
    "np.nanmean(total_salaries) # we have nan values so we use nanmean method"
   ]
  }
 ],
 "metadata": {
  "kernelspec": {
   "display_name": "py312",
   "language": "python",
   "name": "python3"
  },
  "language_info": {
   "codemirror_mode": {
    "name": "ipython",
    "version": 3
   },
   "file_extension": ".py",
   "mimetype": "text/x-python",
   "name": "python",
   "nbconvert_exporter": "python",
   "pygments_lexer": "ipython3",
   "version": "3.12.7"
  }
 },
 "nbformat": 4,
 "nbformat_minor": 5
}
