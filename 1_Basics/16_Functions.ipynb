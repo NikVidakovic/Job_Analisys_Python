{
 "cells": [
  {
   "cell_type": "markdown",
   "id": "289721d4",
   "metadata": {},
   "source": [
    "Built in functions"
   ]
  },
  {
   "cell_type": "code",
   "execution_count": 3,
   "id": "c8392f9f",
   "metadata": {},
   "outputs": [
    {
     "data": {
      "text/plain": [
       "6"
      ]
     },
     "execution_count": 3,
     "metadata": {},
     "output_type": "execute_result"
    }
   ],
   "source": [
    "skill_list = ['python', 'java', 'c++', 'javascript', 'html', 'css']\n",
    "len(skill_list)  "
   ]
  },
  {
   "cell_type": "code",
   "execution_count": 4,
   "id": "b1da93b1",
   "metadata": {},
   "outputs": [
    {
     "name": "stdout",
     "output_type": "stream",
     "text": [
      "['python', 'java', 'c++', 'javascript', 'html', 'css']\n"
     ]
    }
   ],
   "source": [
    "print(skill_list)"
   ]
  },
  {
   "cell_type": "code",
   "execution_count": 10,
   "id": "0f6e7d84",
   "metadata": {},
   "outputs": [],
   "source": [
    "count = 0\n",
    "for skill in skill_list:\n",
    "    count+= 1"
   ]
  },
  {
   "cell_type": "code",
   "execution_count": 12,
   "id": "cb3b44a7",
   "metadata": {},
   "outputs": [
    {
     "data": {
      "text/plain": [
       "6"
      ]
     },
     "execution_count": 12,
     "metadata": {},
     "output_type": "execute_result"
    }
   ],
   "source": [
    "count "
   ]
  },
  {
   "cell_type": "code",
   "execution_count": 13,
   "id": "ef69676e",
   "metadata": {},
   "outputs": [],
   "source": [
    "data_salaries = [9500, 5000, 2000, 63000, 8000]"
   ]
  },
  {
   "cell_type": "code",
   "execution_count": 14,
   "id": "449c9d27",
   "metadata": {},
   "outputs": [
    {
     "data": {
      "text/plain": [
       "2000"
      ]
     },
     "execution_count": 14,
     "metadata": {},
     "output_type": "execute_result"
    }
   ],
   "source": [
    "min(data_salaries)"
   ]
  },
  {
   "cell_type": "code",
   "execution_count": 15,
   "id": "11311b13",
   "metadata": {},
   "outputs": [
    {
     "data": {
      "text/plain": [
       "63000"
      ]
     },
     "execution_count": 15,
     "metadata": {},
     "output_type": "execute_result"
    }
   ],
   "source": [
    "max(data_salaries)"
   ]
  },
  {
   "cell_type": "code",
   "execution_count": 16,
   "id": "438a2b9b",
   "metadata": {},
   "outputs": [
    {
     "data": {
      "text/plain": [
       "87500"
      ]
     },
     "execution_count": 16,
     "metadata": {},
     "output_type": "execute_result"
    }
   ],
   "source": [
    "sum(data_salaries)"
   ]
  },
  {
   "cell_type": "code",
   "execution_count": 18,
   "id": "95f7ccb8",
   "metadata": {},
   "outputs": [
    {
     "data": {
      "text/plain": [
       "[2000, 5000, 8000, 9500, 63000]"
      ]
     },
     "execution_count": 18,
     "metadata": {},
     "output_type": "execute_result"
    }
   ],
   "source": [
    "sorted(data_salaries)"
   ]
  },
  {
   "cell_type": "markdown",
   "id": "513f964f",
   "metadata": {},
   "source": [
    "User-Defined Functions"
   ]
  },
  {
   "cell_type": "code",
   "execution_count": 19,
   "id": "01a21675",
   "metadata": {},
   "outputs": [
    {
     "data": {
      "text/plain": [
       "11000.0"
      ]
     },
     "execution_count": 19,
     "metadata": {},
     "output_type": "execute_result"
    }
   ],
   "source": [
    "base_salary = 10000\n",
    "bonus_rate = 0.1\n",
    "\n",
    "total_salary = base_salary * (1 + bonus_rate)\n",
    "\n",
    "total_salary"
   ]
  },
  {
   "cell_type": "code",
   "execution_count": 37,
   "id": "69570707",
   "metadata": {},
   "outputs": [],
   "source": [
    "def calculate_salary(base_salary, bonus_rate=.1): #providing arguments(returned value) inside brackets\n",
    "\n",
    "    total_salary = base_salary * (1 + bonus_rate)\n",
    "    \n",
    "    return total_salary   #without this return word if we call a function we wont get anything back"
   ]
  },
  {
   "cell_type": "code",
   "execution_count": null,
   "id": "1be89827",
   "metadata": {},
   "outputs": [
    {
     "data": {
      "text/plain": [
       "18000.0"
      ]
     },
     "execution_count": 27,
     "metadata": {},
     "output_type": "execute_result"
    }
   ],
   "source": [
    "calculate_salary(15000, 0.2) #we need to provide arguments while calling the function\n",
    "#arguments provided while calling the function are stronger then the ones in function"
   ]
  },
  {
   "cell_type": "markdown",
   "id": "124823d5",
   "metadata": {},
   "source": [
    "Lambda functions"
   ]
  },
  {
   "cell_type": "code",
   "execution_count": null,
   "id": "91a58750",
   "metadata": {},
   "outputs": [],
   "source": [
    "mul_two = lambda x: x*2 #we add an argumen of x"
   ]
  },
  {
   "cell_type": "code",
   "execution_count": 29,
   "id": "fe472876",
   "metadata": {},
   "outputs": [
    {
     "data": {
      "text/plain": [
       "6"
      ]
     },
     "execution_count": 29,
     "metadata": {},
     "output_type": "execute_result"
    }
   ],
   "source": [
    "mul_two(3)"
   ]
  },
  {
   "cell_type": "code",
   "execution_count": 30,
   "id": "ef916d8a",
   "metadata": {},
   "outputs": [
    {
     "data": {
      "text/plain": [
       "7"
      ]
     },
     "execution_count": 30,
     "metadata": {},
     "output_type": "execute_result"
    }
   ],
   "source": [
    "(lambda x, y: x*2 + y)(2,3)"
   ]
  },
  {
   "cell_type": "code",
   "execution_count": 39,
   "id": "eff6bc85",
   "metadata": {},
   "outputs": [
    {
     "data": {
      "text/plain": [
       "[200.0, 6000.0, 8500.0, 6300.0, 8799.9]"
      ]
     },
     "execution_count": 39,
     "metadata": {},
     "output_type": "execute_result"
    }
   ],
   "source": [
    "salary_list = [2000, 60000, 85000, 63000, 87999]\n",
    "\n",
    "#every time we do a lambda function we need to do in inside of ()\n",
    "total_salary_list = [(lambda x: x* 0.1)(salary) for salary in salary_list]\n",
    "\n",
    "total_salary_list\n"
   ]
  },
  {
   "cell_type": "code",
   "execution_count": 40,
   "id": "b362ab0b",
   "metadata": {},
   "outputs": [],
   "source": [
    "jobs_data = [\n",
    "    {'job_title': 'Data Scientist', 'job_skills': ['Python', 'Machine Learning'], 'remote': True},\n",
    "    {'job_title': 'Data Analyst', 'job_skills': ['Excel', 'SQL'], 'remote': False},\n",
    "    {'job_title': 'Machine Learning Engineer', 'job_skills': ['Python', 'TensorFlow', 'Keras'], 'remote': True},\n",
    "    {'job_title': 'Software Developer', 'job_skills': ['Java', 'C++'], 'remote': True},\n",
    "    {'job_title': 'Data Scientist', 'job_skills': ['R', 'Statistics'], 'remote': False}\n",
    "]\n"
   ]
  },
  {
   "cell_type": "code",
   "execution_count": 45,
   "id": "187f7f90",
   "metadata": {},
   "outputs": [
    {
     "data": {
      "text/plain": [
       "[{'job_title': 'Data Scientist',\n",
       "  'job_skills': ['Python', 'Machine Learning'],\n",
       "  'remote': True},\n",
       " {'job_title': 'Machine Learning Engineer',\n",
       "  'job_skills': ['Python', 'TensorFlow', 'Keras'],\n",
       "  'remote': True}]"
      ]
     },
     "execution_count": 45,
     "metadata": {},
     "output_type": "execute_result"
    }
   ],
   "source": [
    "list(filter(lambda job: job['remote'] and \"Python\" in job['job_skills'], jobs_data))"
   ]
  }
 ],
 "metadata": {
  "kernelspec": {
   "display_name": "py312",
   "language": "python",
   "name": "python3"
  },
  "language_info": {
   "codemirror_mode": {
    "name": "ipython",
    "version": 3
   },
   "file_extension": ".py",
   "mimetype": "text/x-python",
   "name": "python",
   "nbconvert_exporter": "python",
   "pygments_lexer": "ipython3",
   "version": "3.12.7"
  }
 },
 "nbformat": 4,
 "nbformat_minor": 5
}
