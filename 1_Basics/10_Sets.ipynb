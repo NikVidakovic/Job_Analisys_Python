{
 "cells": [
  {
   "cell_type": "code",
   "execution_count": 1,
   "id": "688f9302",
   "metadata": {},
   "outputs": [],
   "source": [
    "#sets are designed for unique values\n",
    "\n",
    "job_skills = {'python', 'java', 'c++', 'sql', 'javascript'}"
   ]
  },
  {
   "cell_type": "code",
   "execution_count": 3,
   "id": "9cc4e649",
   "metadata": {},
   "outputs": [
    {
     "data": {
      "text/plain": [
       "{'c++', 'java', 'javascript', 'python', 'sql'}"
      ]
     },
     "execution_count": 3,
     "metadata": {},
     "output_type": "execute_result"
    }
   ],
   "source": [
    "job_skills #calling the set will show the values in no particular order"
   ]
  },
  {
   "cell_type": "code",
   "execution_count": 6,
   "id": "bc50ec8b",
   "metadata": {},
   "outputs": [],
   "source": [
    "job_skills.add('sql') #add a new value to the set"
   ]
  },
  {
   "cell_type": "code",
   "execution_count": 8,
   "id": "7201eaed",
   "metadata": {},
   "outputs": [
    {
     "data": {
      "text/plain": [
       "{'c++', 'html', 'java', 'javascript', 'python', 'sql'}"
      ]
     },
     "execution_count": 8,
     "metadata": {},
     "output_type": "execute_result"
    }
   ],
   "source": [
    "job_skills #we can see that the set does not allow duplicates"
   ]
  },
  {
   "cell_type": "code",
   "execution_count": 12,
   "id": "a8ddd2f0",
   "metadata": {},
   "outputs": [
    {
     "data": {
      "text/plain": [
       "'java'"
      ]
     },
     "execution_count": 12,
     "metadata": {},
     "output_type": "execute_result"
    }
   ],
   "source": [
    "job_skills.pop() #it will give an arbitrary value from the set"
   ]
  },
  {
   "cell_type": "code",
   "execution_count": 14,
   "id": "c6d01c8f",
   "metadata": {},
   "outputs": [
    {
     "data": {
      "text/plain": [
       "{'html', 'javascript', 'python', 'sql'}"
      ]
     },
     "execution_count": 14,
     "metadata": {},
     "output_type": "execute_result"
    }
   ],
   "source": [
    "job_skills #we can see we no longer have the value that was popped"
   ]
  },
  {
   "cell_type": "code",
   "execution_count": 16,
   "id": "73aea668",
   "metadata": {},
   "outputs": [],
   "source": [
    "job_skills.remove('sql') #removes the value from the set"
   ]
  },
  {
   "cell_type": "code",
   "execution_count": 17,
   "id": "e4d68fba",
   "metadata": {},
   "outputs": [
    {
     "data": {
      "text/plain": [
       "{'html', 'javascript', 'python'}"
      ]
     },
     "execution_count": 17,
     "metadata": {},
     "output_type": "execute_result"
    }
   ],
   "source": [
    "job_skills"
   ]
  },
  {
   "cell_type": "code",
   "execution_count": 18,
   "id": "f5a01991",
   "metadata": {},
   "outputs": [],
   "source": [
    "skill_list = ['python', 'java', 'c++', 'sql', 'javascript', 'python', 'java', 'c++', 'sql', 'javascript']"
   ]
  },
  {
   "cell_type": "code",
   "execution_count": 21,
   "id": "26be1322",
   "metadata": {},
   "outputs": [
    {
     "data": {
      "text/plain": [
       "['python', 'javascript', 'sql', 'c++', 'java']"
      ]
     },
     "execution_count": 21,
     "metadata": {},
     "output_type": "execute_result"
    }
   ],
   "source": [
    "list(set(skill_list)) #we can convert a list to a set to remove duplicates and also convert it back to a list"
   ]
  }
 ],
 "metadata": {
  "kernelspec": {
   "display_name": "py312",
   "language": "python",
   "name": "python3"
  },
  "language_info": {
   "codemirror_mode": {
    "name": "ipython",
    "version": 3
   },
   "file_extension": ".py",
   "mimetype": "text/x-python",
   "name": "python",
   "nbconvert_exporter": "python",
   "pygments_lexer": "ipython3",
   "version": "3.12.7"
  }
 },
 "nbformat": 4,
 "nbformat_minor": 5
}
