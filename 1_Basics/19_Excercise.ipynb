{
 "cells": [
  {
   "cell_type": "markdown",
   "id": "271ebb37",
   "metadata": {},
   "source": [
    "Clean up list and datetime objects"
   ]
  },
  {
   "cell_type": "code",
   "execution_count": 16,
   "id": "5d8e3dc4",
   "metadata": {},
   "outputs": [],
   "source": [
    "data_science_jobs = [\n",
    "    {'job_title': 'Data Scientist', 'job_skills': ['Python', 'SQL', 'Machine Learning'], 'job_date': '2023-05-12'},\n",
    "    {'job_title': 'Data Engineer', 'job_skills': ['AWS', 'Python', 'TensorFlow'], 'job_date': '2023-05-18'},\n",
    "    {'job_title': 'Data Analyst', 'job_skills': ['Python', 'Data Analysis', 'SQL'], 'job_date': '2023-05-06'},\n",
    "    {'job_title': 'Machine Learning Engineer', 'job_skills': ['Python', 'PyTorch', 'ML Ops'], 'job_date': '2023-05-20'},\n",
    "    {'job_title': 'Business Intelligence Developer', 'job_skills': ['Power BI', 'SQL', 'ETL'], 'job_date': '2023-05-10'},\n",
    "    {'job_title': 'AI Researcher', 'job_skills': ['Deep Learning', 'Python', 'NLP'], 'job_date': '2023-05-15'},\n",
    "    {'job_title': 'Data Architect', 'job_skills': ['Data Modeling', 'BigQuery', 'Snowflake'], 'job_date': '2023-05-09'},\n",
    "    {'job_title': 'Statistician', 'job_skills': ['R', 'Statistics', 'Data Cleaning'], 'job_date': '2023-05-08'},\n",
    "    {'job_title': 'ETL Developer', 'job_skills': ['SQL', 'Informatica', 'Data Warehousing'], 'job_date': '2023-05-11'},\n",
    "    {'job_title': 'Data Quality Analyst', 'job_skills': ['Data Validation', 'Excel', 'SQL'], 'job_date': '2023-05-14'}\n",
    "]"
   ]
  },
  {
   "cell_type": "code",
   "execution_count": 3,
   "id": "ea660e7f",
   "metadata": {},
   "outputs": [],
   "source": [
    "from datetime import datetime, date"
   ]
  },
  {
   "cell_type": "code",
   "execution_count": 4,
   "id": "d935b1f9",
   "metadata": {},
   "outputs": [
    {
     "data": {
      "text/plain": [
       "datetime.datetime(2025, 5, 7, 20, 39, 24, 734205)"
      ]
     },
     "execution_count": 4,
     "metadata": {},
     "output_type": "execute_result"
    }
   ],
   "source": [
    "datetime.now()"
   ]
  },
  {
   "cell_type": "code",
   "execution_count": 5,
   "id": "36b3f533",
   "metadata": {},
   "outputs": [
    {
     "data": {
      "text/plain": [
       "'2023-05-12'"
      ]
     },
     "execution_count": 5,
     "metadata": {},
     "output_type": "execute_result"
    }
   ],
   "source": [
    "#accessing the first element\n",
    "test_date = data_science_jobs[0]['job_date']\n",
    "test_date"
   ]
  },
  {
   "cell_type": "code",
   "execution_count": 6,
   "id": "3aacc370",
   "metadata": {},
   "outputs": [
    {
     "name": "stdout",
     "output_type": "stream",
     "text": [
      "2023-05-12 00:00:00\n"
     ]
    }
   ],
   "source": [
    "print(datetime.strptime(test_date, '%Y-%m-%d'))"
   ]
  },
  {
   "cell_type": "code",
   "execution_count": null,
   "id": "2d5bd017",
   "metadata": {},
   "outputs": [],
   "source": [
    "#cleaning datetimes in defined dictionary using for loop\n",
    "#converting job skills into a list if it is a string and it would be if after the key it looked like \"[]\"\n",
    "import ast\n",
    "for job in data_science_jobs:\n",
    "    job['job_date'] = datetime.strptime(job['job_date'], '%Y-%m-%d')\n",
    "    #job['job_skills'] = ast.literal_eval(job['job_skills'])"
   ]
  }
 ],
 "metadata": {
  "kernelspec": {
   "display_name": "py312",
   "language": "python",
   "name": "python3"
  },
  "language_info": {
   "codemirror_mode": {
    "name": "ipython",
    "version": 3
   },
   "file_extension": ".py",
   "mimetype": "text/x-python",
   "name": "python",
   "nbconvert_exporter": "python",
   "pygments_lexer": "ipython3",
   "version": "3.12.7"
  }
 },
 "nbformat": 4,
 "nbformat_minor": 5
}
