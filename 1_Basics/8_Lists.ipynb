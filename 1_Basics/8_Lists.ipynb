{
 "cells": [
  {
   "cell_type": "code",
   "execution_count": 1,
   "id": "a52a3054",
   "metadata": {},
   "outputs": [],
   "source": [
    "#list, tuples, sets and dictionaries are built-in data structures in Python\n",
    "job_list =['SQL', 'Python', 'Power BI']"
   ]
  },
  {
   "cell_type": "code",
   "execution_count": 2,
   "id": "abba1c68",
   "metadata": {
    "vscode": {
     "languageId": "markdown"
    }
   },
   "outputs": [],
   "source": [
    "job_list.append('Excel')"
   ]
  },
  {
   "cell_type": "code",
   "execution_count": 3,
   "id": "e619bcc7",
   "metadata": {
    "vscode": {
     "languageId": "markdown"
    }
   },
   "outputs": [
    {
     "data": {
      "text/plain": [
       "['SQL', 'Python', 'Power BI', 'Excel']"
      ]
     },
     "execution_count": 3,
     "metadata": {},
     "output_type": "execute_result"
    }
   ],
   "source": [
    "job_list"
   ]
  },
  {
   "cell_type": "code",
   "execution_count": 4,
   "id": "b9a25d23",
   "metadata": {
    "vscode": {
     "languageId": "markdown"
    }
   },
   "outputs": [],
   "source": [
    "job_list.remove('Python')"
   ]
  },
  {
   "cell_type": "code",
   "execution_count": 5,
   "id": "42e2372b",
   "metadata": {
    "vscode": {
     "languageId": "markdown"
    }
   },
   "outputs": [
    {
     "data": {
      "text/plain": [
       "['SQL', 'Power BI', 'Excel']"
      ]
     },
     "execution_count": 5,
     "metadata": {},
     "output_type": "execute_result"
    }
   ],
   "source": [
    "job_list"
   ]
  },
  {
   "cell_type": "code",
   "execution_count": 6,
   "id": "287aca84",
   "metadata": {
    "vscode": {
     "languageId": "markdown"
    }
   },
   "outputs": [
    {
     "data": {
      "text/plain": [
       "3"
      ]
     },
     "execution_count": 6,
     "metadata": {},
     "output_type": "execute_result"
    }
   ],
   "source": [
    "len(job_list) "
   ]
  },
  {
   "cell_type": "code",
   "execution_count": 19,
   "id": "ec638df8",
   "metadata": {
    "vscode": {
     "languageId": "markdown"
    }
   },
   "outputs": [
    {
     "data": {
      "text/plain": [
       "'Excel'"
      ]
     },
     "execution_count": 19,
     "metadata": {},
     "output_type": "execute_result"
    }
   ],
   "source": [
    "job_list[1]"
   ]
  },
  {
   "cell_type": "code",
   "execution_count": 5,
   "id": "4c4f321d",
   "metadata": {
    "vscode": {
     "languageId": "markdown"
    }
   },
   "outputs": [],
   "source": [
    "job_list.insert(2, 'tableau')"
   ]
  },
  {
   "cell_type": "code",
   "execution_count": 7,
   "id": "77a5fa35",
   "metadata": {
    "vscode": {
     "languageId": "markdown"
    }
   },
   "outputs": [
    {
     "data": {
      "text/plain": [
       "['SQL', 'Python', 'tableau', 'Power BI', 'Excel']"
      ]
     },
     "execution_count": 7,
     "metadata": {},
     "output_type": "execute_result"
    }
   ],
   "source": [
    "job_list"
   ]
  },
  {
   "cell_type": "code",
   "execution_count": 8,
   "id": "94dfcb12",
   "metadata": {
    "vscode": {
     "languageId": "markdown"
    }
   },
   "outputs": [
    {
     "data": {
      "text/plain": [
       "'tableau'"
      ]
     },
     "execution_count": 8,
     "metadata": {},
     "output_type": "execute_result"
    }
   ],
   "source": [
    "job_list.pop(2)"
   ]
  },
  {
   "cell_type": "code",
   "execution_count": null,
   "id": "aa30ebdd",
   "metadata": {
    "vscode": {
     "languageId": "markdown"
    }
   },
   "outputs": [
    {
     "data": {
      "text/plain": [
       "['SQL', 'Python', 'Power BI']"
      ]
     },
     "execution_count": 9,
     "metadata": {},
     "output_type": "execute_result"
    }
   ],
   "source": [
    "job_list[0:3] #starting index is inclusive and last index in exclusive, it goes from index 0 until index 2"
   ]
  },
  {
   "cell_type": "code",
   "execution_count": null,
   "id": "e2731c02",
   "metadata": {
    "vscode": {
     "languageId": "markdown"
    }
   },
   "outputs": [
    {
     "data": {
      "text/plain": [
       "['SQL', 'Python', 'Power BI', 'Excel']"
      ]
     },
     "execution_count": 11,
     "metadata": {},
     "output_type": "execute_result"
    }
   ],
   "source": [
    "job_list[:] #accessing all items in the list"
   ]
  },
  {
   "cell_type": "code",
   "execution_count": 12,
   "id": "e3fb8f00",
   "metadata": {
    "vscode": {
     "languageId": "markdown"
    }
   },
   "outputs": [
    {
     "data": {
      "text/plain": [
       "['SQL']"
      ]
     },
     "execution_count": 12,
     "metadata": {},
     "output_type": "execute_result"
    }
   ],
   "source": [
    "job_list[:1]"
   ]
  },
  {
   "cell_type": "code",
   "execution_count": 14,
   "id": "a5a7ce1e",
   "metadata": {
    "vscode": {
     "languageId": "markdown"
    }
   },
   "outputs": [
    {
     "data": {
      "text/plain": [
       "['SQL', 'Python', 'Power BI', 'Excel']"
      ]
     },
     "execution_count": 14,
     "metadata": {},
     "output_type": "execute_result"
    }
   ],
   "source": [
    "job_list[::1] #first index, last index, number of steps"
   ]
  },
  {
   "cell_type": "code",
   "execution_count": 16,
   "id": "2a81450d",
   "metadata": {
    "vscode": {
     "languageId": "markdown"
    }
   },
   "outputs": [],
   "source": [
    "luke_skills = ['Python', 'bigquery', 'r']\n",
    "kelly_skills = ['Python', 'sql', 'looker']\n",
    "\n",
    "all_skills = luke_skills + kelly_skills"
   ]
  },
  {
   "cell_type": "code",
   "execution_count": 21,
   "id": "61ba7192",
   "metadata": {
    "vscode": {
     "languageId": "markdown"
    }
   },
   "outputs": [
    {
     "data": {
      "text/plain": [
       "['Python', 'bigquery', 'r', 'Python', 'sql', 'looker']"
      ]
     },
     "execution_count": 21,
     "metadata": {},
     "output_type": "execute_result"
    }
   ],
   "source": [
    "all_skills"
   ]
  },
  {
   "cell_type": "code",
   "execution_count": null,
   "id": "a4c2e896",
   "metadata": {
    "vscode": {
     "languageId": "markdown"
    }
   },
   "outputs": [
    {
     "data": {
      "text/plain": [
       "['Python', 'r', 'sql']"
      ]
     },
     "execution_count": 18,
     "metadata": {},
     "output_type": "execute_result"
    }
   ],
   "source": [
    "all_skills[::2] #accessing every 2nd index value in a list"
   ]
  },
  {
   "cell_type": "code",
   "execution_count": null,
   "id": "3b261202",
   "metadata": {
    "vscode": {
     "languageId": "markdown"
    }
   },
   "outputs": [
    {
     "data": {
      "text/plain": [
       "['looker']"
      ]
     },
     "execution_count": 20,
     "metadata": {},
     "output_type": "execute_result"
    }
   ],
   "source": [
    "all_skills[5:] #accessing the 5th index value in a list"
   ]
  },
  {
   "cell_type": "code",
   "execution_count": null,
   "id": "da7e0948",
   "metadata": {
    "vscode": {
     "languageId": "markdown"
    }
   },
   "outputs": [
    {
     "data": {
      "text/plain": [
       "['Python', 'bigquery', 'r', 'Python', 'sql']"
      ]
     },
     "execution_count": 22,
     "metadata": {},
     "output_type": "execute_result"
    }
   ],
   "source": [
    "all_skills[:5] #accessing 5 indexes value in a list"
   ]
  },
  {
   "cell_type": "code",
   "execution_count": null,
   "id": "8c311ead",
   "metadata": {
    "vscode": {
     "languageId": "markdown"
    }
   },
   "outputs": [
    {
     "data": {
      "text/plain": [
       "'looker'"
      ]
     },
     "execution_count": 23,
     "metadata": {},
     "output_type": "execute_result"
    }
   ],
   "source": [
    "all_skills[-1] #accessing the last item in list"
   ]
  },
  {
   "cell_type": "code",
   "execution_count": 28,
   "id": "d08f8918",
   "metadata": {
    "vscode": {
     "languageId": "markdown"
    }
   },
   "outputs": [],
   "source": [
    "job_skills = ['python', 'excel', 'sql', 'looker']"
   ]
  },
  {
   "cell_type": "code",
   "execution_count": null,
   "id": "aa0da231",
   "metadata": {
    "vscode": {
     "languageId": "markdown"
    }
   },
   "outputs": [],
   "source": [
    "skill1, skill2, skill3 = job_skills #unpacking"
   ]
  },
  {
   "cell_type": "code",
   "execution_count": 27,
   "id": "e580b74d",
   "metadata": {
    "vscode": {
     "languageId": "markdown"
    }
   },
   "outputs": [
    {
     "name": "stdout",
     "output_type": "stream",
     "text": [
      "python\n",
      "excel\n",
      "sql\n"
     ]
    }
   ],
   "source": [
    "print(skill1) \n",
    "print(skill2) \n",
    "print(skill3)"
   ]
  },
  {
   "cell_type": "code",
   "execution_count": null,
   "id": "40b0de6b",
   "metadata": {
    "vscode": {
     "languageId": "markdown"
    }
   },
   "outputs": [],
   "source": [
    "skill_concerned, *skill_dont_care = job_skills # * is unpack operator so it puts everything into this variable and only first into first"
   ]
  },
  {
   "cell_type": "code",
   "execution_count": 30,
   "id": "f51eec5e",
   "metadata": {
    "vscode": {
     "languageId": "markdown"
    }
   },
   "outputs": [
    {
     "name": "stdout",
     "output_type": "stream",
     "text": [
      "python\n",
      "['excel', 'sql', 'looker']\n"
     ]
    }
   ],
   "source": [
    "print(skill_concerned)\n",
    "print(skill_dont_care)"
   ]
  }
 ],
 "metadata": {
  "kernelspec": {
   "display_name": "py312",
   "language": "python",
   "name": "python3"
  },
  "language_info": {
   "codemirror_mode": {
    "name": "ipython",
    "version": 3
   },
   "file_extension": ".py",
   "mimetype": "text/x-python",
   "name": "python",
   "nbconvert_exporter": "python",
   "pygments_lexer": "ipython3",
   "version": "3.12.7"
  }
 },
 "nbformat": 4,
 "nbformat_minor": 5
}
