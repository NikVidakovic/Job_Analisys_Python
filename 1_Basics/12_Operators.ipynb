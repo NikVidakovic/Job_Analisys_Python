{
 "cells": [
  {
   "cell_type": "markdown",
   "id": "5350d96a",
   "metadata": {},
   "source": [
    "Logical operators\n",
    "\n",
    "1. And\n",
    "2. Or\n",
    "3. Not"
   ]
  },
  {
   "cell_type": "code",
   "execution_count": 1,
   "id": "5b1aa28d",
   "metadata": {},
   "outputs": [
    {
     "data": {
      "text/plain": [
       "True"
      ]
     },
     "execution_count": 1,
     "metadata": {},
     "output_type": "execute_result"
    }
   ],
   "source": [
    "job_work_from_home = True\n",
    "job_health_insurance = False\n",
    "job_no_degree_mentioned = True\n",
    "\n",
    "job_work_from_home or job_health_insurance and job_no_degree_mentioned"
   ]
  },
  {
   "cell_type": "code",
   "execution_count": 3,
   "id": "a15f96d7",
   "metadata": {},
   "outputs": [
    {
     "data": {
      "text/plain": [
       "True"
      ]
     },
     "execution_count": 3,
     "metadata": {},
     "output_type": "execute_result"
    }
   ],
   "source": [
    "\n",
    "job_work_from_home or job_health_insurance or not job_no_degree_mentioned"
   ]
  },
  {
   "cell_type": "code",
   "execution_count": 4,
   "id": "698b16b0",
   "metadata": {},
   "outputs": [
    {
     "name": "stdout",
     "output_type": "stream",
     "text": [
      "Meet conditions\n"
     ]
    }
   ],
   "source": [
    "if job_work_from_home or job_health_insurance and job_no_degree_mentioned:\n",
    "    print(\"Meet conditions\")"
   ]
  },
  {
   "cell_type": "code",
   "execution_count": null,
   "id": "edb70182",
   "metadata": {},
   "outputs": [
    {
     "data": {
      "text/plain": [
       "True"
      ]
     },
     "execution_count": 5,
     "metadata": {},
     "output_type": "execute_result"
    }
   ],
   "source": [
    "#Membrship Operators\n",
    "\"Data\" in \"Data Nerd\""
   ]
  },
  {
   "cell_type": "code",
   "execution_count": 6,
   "id": "e41d1ad5",
   "metadata": {},
   "outputs": [],
   "source": [
    "job_skills = [\"Python\", \"R\", \"SQL\"]"
   ]
  },
  {
   "cell_type": "code",
   "execution_count": 7,
   "id": "c06f5f39",
   "metadata": {},
   "outputs": [
    {
     "data": {
      "text/plain": [
       "False"
      ]
     },
     "execution_count": 7,
     "metadata": {},
     "output_type": "execute_result"
    }
   ],
   "source": [
    "'python' in job_skills"
   ]
  },
  {
   "cell_type": "code",
   "execution_count": 15,
   "id": "96f593ea",
   "metadata": {},
   "outputs": [
    {
     "data": {
      "text/plain": [
       "False"
      ]
     },
     "execution_count": 15,
     "metadata": {},
     "output_type": "execute_result"
    }
   ],
   "source": [
    "#identity operators - is, not is\n",
    "salary_kelly = 100000\n",
    "salary_steve = 100000\n",
    "\n",
    "salary_kelly is salary_steve\n",
    "\n",
    "id(salary_kelly) == id(salary_steve)"
   ]
  },
  {
   "cell_type": "code",
   "execution_count": 11,
   "id": "07642535",
   "metadata": {},
   "outputs": [
    {
     "data": {
      "text/plain": [
       "2578510952880"
      ]
     },
     "execution_count": 11,
     "metadata": {},
     "output_type": "execute_result"
    }
   ],
   "source": [
    "#is operator is checking wether the two variables are pointing to the same object in memory\n",
    "id(salary_kelly)"
   ]
  },
  {
   "cell_type": "code",
   "execution_count": 12,
   "id": "7c3a064e",
   "metadata": {},
   "outputs": [
    {
     "data": {
      "text/plain": [
       "2578510941392"
      ]
     },
     "execution_count": 12,
     "metadata": {},
     "output_type": "execute_result"
    }
   ],
   "source": [
    "id(salary_steve)"
   ]
  },
  {
   "cell_type": "code",
   "execution_count": 17,
   "id": "6a204f7f",
   "metadata": {},
   "outputs": [],
   "source": [
    "core_skills = [\"Python\", \"R\", \"SQL\"]\n",
    "lukes_skills = core_skills"
   ]
  },
  {
   "cell_type": "code",
   "execution_count": 18,
   "id": "22aa44ec",
   "metadata": {},
   "outputs": [
    {
     "data": {
      "text/plain": [
       "True"
      ]
     },
     "execution_count": 18,
     "metadata": {},
     "output_type": "execute_result"
    }
   ],
   "source": [
    "id(lukes_skills) == id(core_skills)"
   ]
  },
  {
   "cell_type": "code",
   "execution_count": 20,
   "id": "9a5ab40b",
   "metadata": {},
   "outputs": [
    {
     "data": {
      "text/plain": [
       "'0b101010'"
      ]
     },
     "execution_count": 20,
     "metadata": {},
     "output_type": "execute_result"
    }
   ],
   "source": [
    "#Bitwise Operators - & | ^ ~ << >>\n",
    "bin(42) #function to convert decimal to binary"
   ]
  },
  {
   "cell_type": "code",
   "execution_count": null,
   "id": "79c37f4b",
   "metadata": {},
   "outputs": [],
   "source": []
  }
 ],
 "metadata": {
  "kernelspec": {
   "display_name": "py312",
   "language": "python",
   "name": "python3"
  },
  "language_info": {
   "codemirror_mode": {
    "name": "ipython",
    "version": 3
   },
   "file_extension": ".py",
   "mimetype": "text/x-python",
   "name": "python",
   "nbconvert_exporter": "python",
   "pygments_lexer": "ipython3",
   "version": "3.12.7"
  }
 },
 "nbformat": 4,
 "nbformat_minor": 5
}
