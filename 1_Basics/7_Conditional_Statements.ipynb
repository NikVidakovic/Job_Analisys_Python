{
 "cells": [
  {
   "cell_type": "code",
   "execution_count": 1,
   "id": "d3d25ea1",
   "metadata": {},
   "outputs": [
    {
     "name": "stdout",
     "output_type": "stream",
     "text": [
      "What is up Data Nerds\n"
     ]
    }
   ],
   "source": [
    "if True:\n",
    "    print(\"What is up Data Nerds\")"
   ]
  },
  {
   "cell_type": "code",
   "execution_count": 2,
   "id": "d70bb664",
   "metadata": {},
   "outputs": [],
   "source": [
    "#Applicant skill\n",
    "applicant_skill = 'SQL'\n",
    "\n",
    "#Skill required for job posting \n",
    "job_skill = 'SQL'"
   ]
  },
  {
   "cell_type": "code",
   "execution_count": 3,
   "id": "578c563c",
   "metadata": {},
   "outputs": [
    {
     "name": "stdout",
     "output_type": "stream",
     "text": [
      "Skills match\n"
     ]
    }
   ],
   "source": [
    "if job_skill == applicant_skill:\n",
    "    print(\"Skills match\")"
   ]
  },
  {
   "cell_type": "code",
   "execution_count": 12,
   "id": "ef459530",
   "metadata": {},
   "outputs": [
    {
     "name": "stdout",
     "output_type": "stream",
     "text": [
      "He should know SQL\n"
     ]
    }
   ],
   "source": [
    "years_experience = 3\n",
    "\n",
    "applicant_skill = 'Python'\n",
    "\n",
    "job_skill = 'SQL'\n",
    "\n",
    "if job_skill == applicant_skill:\n",
    "    print(\"Skills match\")\n",
    "elif years_experience >= 5:\n",
    "    print(\"Enough experience, no SQL\")\n",
    "elif applicant_skill == 'Python':\n",
    "    print(\"He should know SQL\")\n",
    "else:\n",
    "    print(\"No skill or experience\")"
   ]
  },
  {
   "cell_type": "code",
   "execution_count": 15,
   "id": "6bfc4361",
   "metadata": {},
   "outputs": [],
   "source": [
    "if job_skill == applicant_skill:\n",
    "    pass"
   ]
  }
 ],
 "metadata": {
  "kernelspec": {
   "display_name": "py312",
   "language": "python",
   "name": "python3"
  },
  "language_info": {
   "codemirror_mode": {
    "name": "ipython",
    "version": 3
   },
   "file_extension": ".py",
   "mimetype": "text/x-python",
   "name": "python",
   "nbconvert_exporter": "python",
   "pygments_lexer": "ipython3",
   "version": "3.12.7"
  }
 },
 "nbformat": 4,
 "nbformat_minor": 5
}
